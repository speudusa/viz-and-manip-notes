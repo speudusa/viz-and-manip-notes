{
 "cells": [
  {
   "cell_type": "markdown",
   "id": "6f1edfab",
   "metadata": {},
   "source": [
    "# Encounter Calculation Planning"
   ]
  },
  {
   "cell_type": "code",
   "execution_count": 138,
   "id": "10b7b713",
   "metadata": {},
   "outputs": [],
   "source": [
    "import pandas as pd\n",
    "import numpy as np\n",
    "\n",
    "monsters = pd.read_csv('cleaning-data-checkpoint/clean_monsters.csv')\n"
   ]
  },
  {
   "cell_type": "code",
   "execution_count": 139,
   "id": "80dda6a6",
   "metadata": {},
   "outputs": [
    {
     "data": {
      "text/html": [
       "<div>\n",
       "<style scoped>\n",
       "    .dataframe tbody tr th:only-of-type {\n",
       "        vertical-align: middle;\n",
       "    }\n",
       "\n",
       "    .dataframe tbody tr th {\n",
       "        vertical-align: top;\n",
       "    }\n",
       "\n",
       "    .dataframe thead th {\n",
       "        text-align: right;\n",
       "    }\n",
       "</style>\n",
       "<table border=\"1\" class=\"dataframe\">\n",
       "  <thead>\n",
       "    <tr style=\"text-align: right;\">\n",
       "      <th></th>\n",
       "      <th>PartyLevel</th>\n",
       "      <th>PartyNumber</th>\n",
       "    </tr>\n",
       "  </thead>\n",
       "  <tbody>\n",
       "    <tr>\n",
       "      <th>0</th>\n",
       "      <td>1</td>\n",
       "      <td>1</td>\n",
       "    </tr>\n",
       "    <tr>\n",
       "      <th>1</th>\n",
       "      <td>2</td>\n",
       "      <td>2</td>\n",
       "    </tr>\n",
       "    <tr>\n",
       "      <th>2</th>\n",
       "      <td>3</td>\n",
       "      <td>3</td>\n",
       "    </tr>\n",
       "    <tr>\n",
       "      <th>3</th>\n",
       "      <td>4</td>\n",
       "      <td>4</td>\n",
       "    </tr>\n",
       "    <tr>\n",
       "      <th>4</th>\n",
       "      <td>5</td>\n",
       "      <td>5</td>\n",
       "    </tr>\n",
       "    <tr>\n",
       "      <th>5</th>\n",
       "      <td>6</td>\n",
       "      <td>6</td>\n",
       "    </tr>\n",
       "    <tr>\n",
       "      <th>6</th>\n",
       "      <td>7</td>\n",
       "      <td>7</td>\n",
       "    </tr>\n",
       "    <tr>\n",
       "      <th>7</th>\n",
       "      <td>8</td>\n",
       "      <td>8</td>\n",
       "    </tr>\n",
       "    <tr>\n",
       "      <th>8</th>\n",
       "      <td>9</td>\n",
       "      <td>9</td>\n",
       "    </tr>\n",
       "    <tr>\n",
       "      <th>9</th>\n",
       "      <td>10</td>\n",
       "      <td>10</td>\n",
       "    </tr>\n",
       "    <tr>\n",
       "      <th>10</th>\n",
       "      <td>11</td>\n",
       "      <td>11</td>\n",
       "    </tr>\n",
       "    <tr>\n",
       "      <th>11</th>\n",
       "      <td>12</td>\n",
       "      <td>12</td>\n",
       "    </tr>\n",
       "    <tr>\n",
       "      <th>12</th>\n",
       "      <td>13</td>\n",
       "      <td>13</td>\n",
       "    </tr>\n",
       "    <tr>\n",
       "      <th>13</th>\n",
       "      <td>14</td>\n",
       "      <td>14</td>\n",
       "    </tr>\n",
       "    <tr>\n",
       "      <th>14</th>\n",
       "      <td>15</td>\n",
       "      <td>15</td>\n",
       "    </tr>\n",
       "    <tr>\n",
       "      <th>15</th>\n",
       "      <td>16</td>\n",
       "      <td>16</td>\n",
       "    </tr>\n",
       "    <tr>\n",
       "      <th>16</th>\n",
       "      <td>17</td>\n",
       "      <td>17</td>\n",
       "    </tr>\n",
       "    <tr>\n",
       "      <th>17</th>\n",
       "      <td>18</td>\n",
       "      <td>18</td>\n",
       "    </tr>\n",
       "    <tr>\n",
       "      <th>18</th>\n",
       "      <td>19</td>\n",
       "      <td>19</td>\n",
       "    </tr>\n",
       "    <tr>\n",
       "      <th>19</th>\n",
       "      <td>20</td>\n",
       "      <td>20</td>\n",
       "    </tr>\n",
       "  </tbody>\n",
       "</table>\n",
       "</div>"
      ],
      "text/plain": [
       "    PartyLevel  PartyNumber\n",
       "0            1            1\n",
       "1            2            2\n",
       "2            3            3\n",
       "3            4            4\n",
       "4            5            5\n",
       "5            6            6\n",
       "6            7            7\n",
       "7            8            8\n",
       "8            9            9\n",
       "9           10           10\n",
       "10          11           11\n",
       "11          12           12\n",
       "12          13           13\n",
       "13          14           14\n",
       "14          15           15\n",
       "15          16           16\n",
       "16          17           17\n",
       "17          18           18\n",
       "18          19           19\n",
       "19          20           20"
      ]
     },
     "execution_count": 139,
     "metadata": {},
     "output_type": "execute_result"
    }
   ],
   "source": [
    "players = {'PartyLevel': [1, 2, 3, 4, 5, 6, 7, 8, 9, 10, 11, 12, 13, 14, 15, 16, 17, 18, 19, 20], 'PartyNumber': [1, 2, 3, 4, 5, 6, 7, 8, 9, 10, 11, 12, 13, 14, 15, 16, 17, 18, 19, 20]}\n",
    "dfplayers = pd.DataFrame(data = players)\n",
    "dfplayers"
   ]
  },
  {
   "cell_type": "markdown",
   "id": "588bec87",
   "metadata": {},
   "source": [
    "### Calculating the party CR with the appropriate modifiers\n",
    "\n",
    "[source](https://slyflourish.com/the_lazy_encounter_benchmark.html)"
   ]
  },
  {
   "cell_type": "code",
   "execution_count": 140,
   "id": "c2a3db00",
   "metadata": {},
   "outputs": [
    {
     "name": "stdout",
     "output_type": "stream",
     "text": [
      "Party Mod Test 1: level 4 = 0.25\n",
      "Party Mod Test 2: level 5 = 0.5\n"
     ]
    }
   ],
   "source": [
    "# function to calculate party modifier, which is used to determine deadliness\n",
    "\n",
    "def party_Mod(partyLev):\n",
    "    if partyLev > 4:\n",
    "        partyMod = 0.5\n",
    "    else:\n",
    "        partyMod = 0.25\n",
    "    return partyMod\n",
    "\n",
    "print(\"Party Mod Test 1: level 4 =\", partyMod(4))\n",
    "print(\"Party Mod Test 2: level 5 =\", partyMod(5))"
   ]
  },
  {
   "cell_type": "code",
   "execution_count": 141,
   "id": "bf166cdc",
   "metadata": {},
   "outputs": [
    {
     "name": "stdout",
     "output_type": "stream",
     "text": [
      "Party CR Test 1: 5 level 3 players = 3.75\n",
      "Party CR Test 2: 5 level 4 players = 5.0\n",
      "Party CR Test 3: 5 level 5 players = 12.5\n"
     ]
    }
   ],
   "source": [
    "# function to calculate player challenge -- not needed\n",
    "\n",
    "def partyCR(partyNum, partyLev):\n",
    "    return (partyNum * partyLev) * partyMod(partyLev)\n",
    "\n",
    "print(\"Party CR Test 1: 5 level 3 players =\", partyCR(5, 3))\n",
    "print(\"Party CR Test 2: 5 level 4 players =\", partyCR(5, 4))\n",
    "print(\"Party CR Test 3: 5 level 5 players =\", partyCR(5, 5))"
   ]
  },
  {
   "cell_type": "markdown",
   "id": "df19707d",
   "metadata": {},
   "source": [
    "### Comparing partyCR to monsterCR"
   ]
  },
  {
   "cell_type": "code",
   "execution_count": 143,
   "id": "111f999f",
   "metadata": {},
   "outputs": [
    {
     "name": "stdout",
     "output_type": "stream",
     "text": [
      "Death!\n",
      "Death!\n",
      "Cake!\n",
      "Cake!\n",
      "Death!\n"
     ]
    }
   ],
   "source": [
    "def is_deadly(monCR, monNum, partyNum, partyLev):\n",
    "    if monCR * monNum > ((partyNum * partyLev) * partyMod(partyLev)):\n",
    "        return \"Death!\" \n",
    "    else:\n",
    "        return \"Cake!\"\n",
    "\n",
    "print(is_deadly(7,1, 5, 3))  #test 1: stone giant (CR = 7) x 1 vs party of 5 at level 3 - Death! WORKS\n",
    "print(is_deadly(7,1, 5, 4))  #test 2: stone giant (CR = 7) x 1 vs party of 5 at level 3 - Death! WORKS\n",
    "print(is_deadly(0.25,9, 5, 3)) # test 3: 9 goblins (CR 0.25) vs party of 5 at level 3 - Cake! WORKS\n",
    "print(is_deadly(0.25,9, 5, 4)) # test 4: 9 goblins (CR 0.25) vs party of 5 at level 4 - Cake! WORKS\n",
    "print(is_deadly(2,10, 5, 5)) # test 5: 10 CR 2s vs party of 5 at level 5 - Death! WORKS"
   ]
  },
  {
   "cell_type": "code",
   "execution_count": null,
   "id": "007d84f3",
   "metadata": {},
   "outputs": [],
   "source": []
  },
  {
   "cell_type": "code",
   "execution_count": null,
   "id": "0fa32cf0",
   "metadata": {},
   "outputs": [],
   "source": []
  }
 ],
 "metadata": {
  "kernelspec": {
   "display_name": "Python 3",
   "language": "python",
   "name": "python3"
  },
  "language_info": {
   "codemirror_mode": {
    "name": "ipython",
    "version": 3
   },
   "file_extension": ".py",
   "mimetype": "text/x-python",
   "name": "python",
   "nbconvert_exporter": "python",
   "pygments_lexer": "ipython3",
   "version": "3.8.8"
  }
 },
 "nbformat": 4,
 "nbformat_minor": 5
}
